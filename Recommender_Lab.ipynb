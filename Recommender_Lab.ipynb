{
 "metadata": {
  "name": "",
  "signature": "sha256:01a2783fcae1778b2874a0ffbb4492d561532a5a9c4e440bde767fc75f70d5b0"
 },
 "nbformat": 3,
 "nbformat_minor": 0,
 "worksheets": [
  {
   "cells": [
    {
     "cell_type": "code",
     "collapsed": false,
     "input": [
      "import pandas as pd\n",
      "import numpy as np"
     ],
     "language": "python",
     "metadata": {},
     "outputs": [],
     "prompt_number": 1
    },
    {
     "cell_type": "code",
     "collapsed": false,
     "input": [
      "#download the class movie reviews from here:\n",
      "#https://docs.google.com/spreadsheets/d/17rCJzmWxqvAu9rkpkgt4ToccIlY4A1Ffuu1W9X3B8Ag/\n",
      "#then read that in as a pandas dataframe"
     ],
     "language": "python",
     "metadata": {},
     "outputs": [],
     "prompt_number": 2
    },
    {
     "cell_type": "code",
     "collapsed": false,
     "input": [
      "M = pd.read_csv('MovieReviews.csv', index_col='Name')"
     ],
     "language": "python",
     "metadata": {},
     "outputs": [],
     "prompt_number": 3
    },
    {
     "cell_type": "code",
     "collapsed": false,
     "input": [
      "def pearson(s1, s2):\n",
      "    \"\"\"Take two pd.Series objects and return a pearson correlation.\"\"\"\n",
      "    s1_c = s1 - s1.mean()\n",
      "    s2_c = s2 - s2.mean()\n",
      "    return np.sum(s1_c * s2_c) / np.sqrt(np.sum(s1_c ** 2) * np.sum(s2_c ** 2))"
     ],
     "language": "python",
     "metadata": {},
     "outputs": [],
     "prompt_number": 4
    },
    {
     "cell_type": "code",
     "collapsed": false,
     "input": [
      "def get_recs(movie_name, M, num):\n",
      "\n",
      "    import numpy as np\n",
      "    reviews = []\n",
      "    for title in M.columns:\n",
      "        if title == movie_name:\n",
      "            continue\n",
      "        cor = pearson(M[movie_name], M[title])\n",
      "        if np.isnan(cor):\n",
      "            continue\n",
      "        else:\n",
      "            reviews.append((title, cor))\n",
      "    \n",
      "    reviews.sort(key=lambda tup: tup[1], reverse=True)\n",
      "    return reviews[:num]\n",
      "\n",
      "    "
     ],
     "language": "python",
     "metadata": {},
     "outputs": [],
     "prompt_number": 5
    },
    {
     "cell_type": "markdown",
     "metadata": {},
     "source": [
      "###Question 1:  What movie is most Similar to 'The fault in our stars' (60 pts)\n"
     ]
    },
    {
     "cell_type": "code",
     "collapsed": false,
     "input": [
      "recs = get_recs('The Fault in Our Stars', M, 10)\n",
      "recs[:2]"
     ],
     "language": "python",
     "metadata": {},
     "outputs": [
      {
       "metadata": {},
       "output_type": "pyout",
       "prompt_number": 6,
       "text": [
        "[('Transformers', 0.47531895848130096),\n",
        " ('The Hunger Games: Mockingjay - Part 1', 0.34113720006202125)]"
       ]
      }
     ],
     "prompt_number": 6
    },
    {
     "cell_type": "markdown",
     "metadata": {},
     "source": [
      "###Question 2:  Which movie(s) would you most like to see, based on your classmates experience? (40 pts)"
     ]
    },
    {
     "cell_type": "code",
     "collapsed": false,
     "input": [
      "#HINTS...\n",
      "\n",
      "#the movies I've seen\n",
      "my_ratings = M.ix['Indraja'].dropna()\n",
      "#the movie I've rated the highest\n",
      "my_ratings.sort(ascending=False)\n",
      "#the name of the movie I've rated the highest\n",
      "fav_movie = my_ratings.index[0]"
     ],
     "language": "python",
     "metadata": {},
     "outputs": [],
     "prompt_number": 9
    },
    {
     "cell_type": "code",
     "collapsed": false,
     "input": [
      "fav_movie"
     ],
     "language": "python",
     "metadata": {},
     "outputs": [
      {
       "metadata": {},
       "output_type": "pyout",
       "prompt_number": 10,
       "text": [
        "'Interstellar'"
       ]
      }
     ],
     "prompt_number": 10
    },
    {
     "cell_type": "code",
     "collapsed": false,
     "input": [
      "my_ratings"
     ],
     "language": "python",
     "metadata": {},
     "outputs": [
      {
       "metadata": {},
       "output_type": "pyout",
       "prompt_number": 11,
       "text": [
        "Interstellar                             5\n",
        "Transformers                             5\n",
        "300: Rise of an Empire                   4\n",
        "The Fault in Our Stars                   4\n",
        "The Hobbit                               4\n",
        "How to Train your Dragon 2               3\n",
        "Godzilla                                 3\n",
        "The Lego Movie                           3\n",
        "Guardians of the Galaxy                  3\n",
        "The Hunger Games: Mockingjay - Part 1    3\n",
        "Name: Indraja, dtype: float64"
       ]
      }
     ],
     "prompt_number": 11
    },
    {
     "cell_type": "code",
     "collapsed": false,
     "input": [
      "recs = get_recs(fav_movie, M, 10)"
     ],
     "language": "python",
     "metadata": {},
     "outputs": [],
     "prompt_number": 12
    },
    {
     "cell_type": "code",
     "collapsed": false,
     "input": [
      "recs[:10]"
     ],
     "language": "python",
     "metadata": {},
     "outputs": [
      {
       "metadata": {},
       "output_type": "pyout",
       "prompt_number": 14,
       "text": [
        "[('The Lego Movie', 0.39230769230769236),\n",
        " ('The Hobbit', 0.30824669607479271),\n",
        " ('How to Train your Dragon 2', 0.21362683902991947),\n",
        " ('Malificent', 0.21111886687476872),\n",
        " ('Unbroken', 0.10741723110591496),\n",
        " ('American Sniper', 0.075955452531275017),\n",
        " ('300: Rise of an Empire', 0.060789179000539061),\n",
        " ('Big Hero 6', 0.018156825980064094),\n",
        " ('Divergent', 0.0),\n",
        " ('The Hunger Games: Mockingjay - Part 1', -0.037175241526660699)]"
       ]
      }
     ],
     "prompt_number": 14
    },
    {
     "cell_type": "markdown",
     "metadata": {},
     "source": [
      "###Question 3: Bonus Question...  For all the movies you haven't seen, can you predict how you'd rate them using your the class reviews? (10 pts)"
     ]
    },
    {
     "cell_type": "code",
     "collapsed": false,
     "input": [
      "not_rated = M.ix['Indraja']\n",
      "not_rated.sort()\n",
      "for i in range(0, not_rated.count(), 1):\n",
      "    not_rated.drop(not_rated.index[0], inplace=True)"
     ],
     "language": "python",
     "metadata": {},
     "outputs": [],
     "prompt_number": 15
    },
    {
     "cell_type": "code",
     "collapsed": false,
     "input": [
      "not_rated"
     ],
     "language": "python",
     "metadata": {},
     "outputs": [
      {
       "metadata": {},
       "output_type": "pyout",
       "prompt_number": 16,
       "text": [
        "American Sniper   NaN\n",
        "Malificent        NaN\n",
        "Big Hero 6        NaN\n",
        "Gone Girl         NaN\n",
        "Divergent         NaN\n",
        "Unbroken          NaN\n",
        "Name: Indraja, dtype: float64"
       ]
      }
     ],
     "prompt_number": 16
    },
    {
     "cell_type": "code",
     "collapsed": false,
     "input": [
      "print \"Pearson Correlation coefficient of :\"\n",
      "a= []\n",
      "for i in range(0, 23, 1): # as there are 23 rows(M.shape), range(0,23) \n",
      "    cor=pearson(M.ix[23], M.ix[i])\n",
      "    print \"(\" + M.index[23] + \" , \" + M.index[i] + \") :\", cor\n",
      "    a.append(cor)"
     ],
     "language": "python",
     "metadata": {},
     "outputs": [
      {
       "output_type": "stream",
       "stream": "stdout",
       "text": [
        "Pearson Correlation coefficient of :\n",
        "(Indraja , Mike) : -0.241475080238\n",
        "(Indraja , HJ SONG) : 0.567964669018\n",
        "(Indraja , Ryan Hansen) : -0.284987365676\n",
        "(Indraja , Olumuyiwa Durojaiye) : 0.389784010955\n",
        "(Indraja , Charlie) : 0.238331729588\n",
        "(Indraja , Sina Tuy) : -0.234095999043\n",
        "(Indraja , Pavithra Shetty) : 0.305195937649\n",
        "(Indraja , Sara Collins) : -0.231412861718\n",
        "(Indraja , Jonathan Doll) : -0.387147134797\n",
        "(Indraja , saikiran reddy) : 0.186271848934\n",
        "(Indraja , Aishwarya reddy) : 0.33736824126\n",
        "(Indraja , Brant Mullinix) : 0.191256120927\n",
        "(Indraja , Sai Sampath) : 0.33736824126\n",
        "(Indraja , Suyendra) : -0.144705782985\n",
        "(Indraja , Sai Yallapragada) : 0.576965635252\n",
        "(Indraja , Akhilesh) : 0.430418026622\n",
        "(Indraja , Sundar Prasad) : 0.49588470368\n",
        "(Indraja , Evan Piercy) : 0.266119657544\n",
        "(Indraja , Jessica Fong) : 0.303080721091\n",
        "(Indraja , Onsiri Tapsarn) : nan\n",
        "(Indraja , Anirudh Thota) : 0.633750222298\n",
        "(Indraja , Greg Werner) : 0.479223750606\n",
        "(Indraja , Violeta Lee Fay) : 0.116881145553\n"
       ]
      }
     ],
     "prompt_number": 18
    },
    {
     "cell_type": "code",
     "collapsed": false,
     "input": [
      "def pred_rate(x, a):\n",
      "    \"\"\"\n",
      "    Takes two parameters 'x' and 'a'. \n",
      "    Where 'x' a list of rates given by classmates. \n",
      "    'a' is a array that has corresponding pearson correlation coefficientreturn (weights for the given rates).\n",
      "    predicted rate is calculated as rate= (x[0]*a[0] + x[1]*a[1] +...+x[i]*a[i]) / (a[0]+a[1]+..+a[i]) \n",
      "    returns predicted rate \n",
      "    \"\"\"\n",
      "    j=0\n",
      "    k=0\n",
      "    for i in range(0, 23, 1): # as there are 23 rows(x.shape), range(0,23) \n",
      "        if x.irow(i)>0 and a[i]>0: \n",
      "            j= j+(a[i]*x.irow(i))\n",
      "            k= k+a[i]\n",
      "        else:\n",
      "            continue\n",
      "    return j/k"
     ],
     "language": "python",
     "metadata": {},
     "outputs": [],
     "prompt_number": 19
    },
    {
     "cell_type": "code",
     "collapsed": false,
     "input": [
      "print \"Ratings for the movies that I have not seen based on class ratings:\"\n",
      "for i in range(0, 6, 1): # as there are 12 rows(not_rated.shape), range(0,12) \n",
      "    x=M[not_rated.index[i]]\n",
      "    rate=pred_rate(x, a)\n",
      "    print not_rated.index[i] +\": \", rate.round(1)"
     ],
     "language": "python",
     "metadata": {},
     "outputs": [
      {
       "output_type": "stream",
       "stream": "stdout",
       "text": [
        "Ratings for the movies that I have not seen based on class ratings:\n",
        "American Sniper:  4.6\n",
        "Malificent:  3.4\n",
        "Big Hero 6:  4.4\n",
        "Gone Girl:  4.0\n",
        "Divergent:  3.0\n",
        "Unbroken:  5.0\n"
       ]
      }
     ],
     "prompt_number": 21
    },
    {
     "cell_type": "code",
     "collapsed": false,
     "input": [],
     "language": "python",
     "metadata": {},
     "outputs": []
    }
   ],
   "metadata": {}
  }
 ]
}